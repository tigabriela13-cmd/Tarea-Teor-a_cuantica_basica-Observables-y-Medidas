{
  "nbformat": 4,
  "nbformat_minor": 0,
  "metadata": {
    "colab": {
      "provenance": []
    },
    "kernelspec": {
      "name": "python3",
      "display_name": "Python 3"
    },
    "language_info": {
      "name": "python"
    }
  },
  "cells": [
    {
      "cell_type": "markdown",
      "source": [
        "#SIMULACION\n",
        "## sistema cuántico descrito en la sección 4.1."
      ],
      "metadata": {
        "id": "8eAqtrWwGhti"
      }
    },
    {
      "cell_type": "markdown",
      "source": [
        "El sistema consiste en una partícula confinada a un conjunto discreto de posiciones en una línea. El simulador debe permitir especificar el número de posiciones y un vector ket de estado asignando las amplitudes.\n",
        "\n",
        "1. El sistema debe calcular la probabilidad de encontrarlo en una posición en particular.\n",
        "\n",
        "2. El sistema si se le da otro vector Ket debe buscar la probabilidad de transitar del primer vector al segundo.\n",
        "\n",
        "Complete los retos de programación del capítulo 4.\n",
        "1. Amplitud de transición. El sistema puede recibir dos vectores y calcular la probabilidad de transitar de el uno al otro después de hacer la observación\n",
        "\n",
        "2. Ahora con una matriz que describa un observable y un vector ket, el sistema revisa que la matriz sea hermitiana, y si lo es, calcula la media y la varianza del observable en el estado dado.\n",
        "\n",
        "3. El sistema calcula los valores propios del observable y la probabilidad de que el sistema transite a alguno de los vectores propios después de la observación.\n",
        "\n",
        "4. Se considera la dinámica del sistema. Ahora con una serie de matrices Un el sistema calcula el estado final a partir de un estado inicial."
      ],
      "metadata": {
        "id": "43gd6xrPGdVs"
      }
    },
    {
      "cell_type": "code",
      "execution_count": 2,
      "metadata": {
        "id": "k36HeCvSGEP_"
      },
      "outputs": [],
      "source": [
        "import numpy as np\n",
        "\n",
        "# -------------------------\n",
        "# Utilidades básicas\n",
        "# -------------------------\n",
        "def is_normalized(ket, tol=1e-10):\n",
        "    \"\"\"Verifica que el ket esté normalizado.\"\"\"\n",
        "    norm = np.vdot(ket, ket)\n",
        "    return abs(norm - 1) < tol\n",
        "\n",
        "def normalize(ket):\n",
        "    \"\"\"Normaliza un ket arbitrario.\"\"\"\n",
        "    return ket / np.sqrt(np.vdot(ket, ket))\n",
        "\n",
        "# -------------------------\n",
        "# 1. Amplitud y probabilidad de transición\n",
        "# -------------------------\n",
        "def transition_amplitude(ket1, ket2):\n",
        "    \"\"\"Calcula ⟨ket2|ket1⟩ y su probabilidad |⟨ket2|ket1⟩|².\"\"\"\n",
        "    amp = np.vdot(ket2, ket1)\n",
        "    prob = np.abs(amp)**2\n",
        "    return amp, prob\n",
        "\n",
        "# -------------------------\n",
        "# 2. Media y varianza de un observable\n",
        "# -------------------------\n",
        "def observable_stats(A, ket):\n",
        "    \"\"\"Comprueba si A es hermitiana y calcula media y varianza.\"\"\"\n",
        "    if not np.allclose(A, A.conj().T):\n",
        "        raise ValueError(\"La matriz no es hermitiana.\")\n",
        "    mean = np.vdot(ket, A @ ket)\n",
        "    var = np.vdot(ket, (A - mean * np.eye(A.shape[0])) @ (A - mean * np.eye(A.shape[0])) @ ket)\n",
        "    return mean, var\n",
        "\n",
        "# -------------------------\n",
        "# 3. Probabilidad de colapso en autoestados\n",
        "# -------------------------\n",
        "def measurement_probabilities(A, ket):\n",
        "    \"\"\"Devuelve (autovalores, probabilidades, autovectores).\"\"\"\n",
        "    if not np.allclose(A, A.conj().T):\n",
        "        raise ValueError(\"La matriz no es hermitiana.\")\n",
        "    eigvals, eigvecs = np.linalg.eigh(A)\n",
        "    probs = np.abs(eigvecs.conj().T @ ket)**2\n",
        "    return eigvals, probs, eigvecs\n",
        "\n",
        "# -------------------------\n",
        "# 4. Dinámica del sistema (evolución unitaria)\n",
        "# -------------------------\n",
        "def evolve_state(U_list, ket0):\n",
        "    \"\"\"Calcula el estado final aplicando sucesivamente las matrices Un.\"\"\"\n",
        "    ket = ket0\n",
        "    for U in U_list:\n",
        "        ket = U @ ket\n",
        "    return ket"
      ]
    },
    {
      "cell_type": "markdown",
      "source": [
        "###Implementacion:"
      ],
      "metadata": {
        "id": "sYO4C5GbHGr1"
      }
    },
    {
      "cell_type": "code",
      "source": [
        "# Estado base\n",
        "ket0 = np.array([1, 0], dtype=complex)\n",
        "ket1 = np.array([0, 1], dtype=complex)\n",
        "\n",
        "# Ejemplo de transición\n",
        "amp, prob = transition_amplitude(ket0, ket1)\n",
        "print(f\"Amplitud de transición: {amp}, Probabilidad: {prob}\")\n",
        "\n",
        "# Observable: Pauli Z\n",
        "Z = np.array([[1, 0], [0, -1]], dtype=complex)\n",
        "\n",
        "mean, var = observable_stats(Z, ket0)\n",
        "print(f\"Media ⟨Z⟩ = {mean}, Var(Z) = {var}\")\n",
        "\n",
        "eigvals, probs, eigvecs = measurement_probabilities(Z, ket0)\n",
        "print(\"Valores propios:\", eigvals)\n",
        "print(\"Probabilidades de colapso:\", probs)\n",
        "\n",
        "# Dinámica unitaria (ejemplo: rotación con Pauli X)\n",
        "X = np.array([[0, 1], [1, 0]], dtype=complex)\n",
        "ket_final = evolve_state([X, X], ket0)\n",
        "print(\"Estado final:\", ket_final)"
      ],
      "metadata": {
        "colab": {
          "base_uri": "https://localhost:8080/"
        },
        "id": "kJZQeyHpHMu-",
        "outputId": "4eec0780-1f25-4f0d-ccc8-00ae98f9d278"
      },
      "execution_count": 3,
      "outputs": [
        {
          "output_type": "stream",
          "name": "stdout",
          "text": [
            "Amplitud de transición: 0j, Probabilidad: 0.0\n",
            "Media ⟨Z⟩ = (1+0j), Var(Z) = 0j\n",
            "Valores propios: [-1.  1.]\n",
            "Probabilidades de colapso: [0. 1.]\n",
            "Estado final: [1.+0.j 0.+0.j]\n"
          ]
        }
      ]
    }
  ]
}